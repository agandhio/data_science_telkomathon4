{
 "cells": [
  {
   "cell_type": "markdown",
   "id": "2e21d0c7",
   "metadata": {},
   "source": [
    "# Data Science Tools and Ecosystem"
   ]
  },
  {
   "cell_type": "markdown",
   "id": "f6937b00",
   "metadata": {},
   "source": [
    "## In this notebook, Data Science Tools and Ecosystem are summarized. And also in this notebook i will try to implement my learning in using Jupyter Notebook in the graded exam guide."
   ]
  },
  {
   "cell_type": "markdown",
   "id": "76850d5f",
   "metadata": {},
   "source": [
    "*Objectives:*\n",
    "+ List popular languages for Data Science\n",
    "+ List of most used Python Libraries for Data Science\n",
    "+ Examples of using Markdowns on Jupyter Notebook\n",
    "+ Examples of simple calculation expressions with Jupyter Notebook"
   ]
  },
  {
   "cell_type": "markdown",
   "id": "15029a66",
   "metadata": {},
   "source": [
    "### Some of the popular languages that Data Scientists use are:\n",
    "1. Python\n",
    "2. SQL\n",
    "3. R\n",
    "4. Julia\n",
    "5. JavaScript\n",
    "6. Scala\n",
    "7. Java\n",
    "8. Go\n",
    "9. Matlab\n",
    "10. C/C++\n",
    "11. Statistical Analytical System (SAS)"
   ]
  },
  {
   "cell_type": "markdown",
   "id": "f9a0c873",
   "metadata": {},
   "source": [
    "### Not just the languages, Data Scientist also use libraries to achieve different kinds of things according to their objectives. Some of the commonly used Python libraries used by Data Scientists include:\n",
    "1. TensorFlow\n",
    "2. NumPy\n",
    "3. SciPy \n",
    "4. Pandas\n",
    "5. Matplotlib \n",
    "6. Keras\n",
    "7. SciKit-Learn\n",
    "8. PyTorch\n",
    "9. Scrapy\n",
    "10. BeautifulSoup\n",
    "11. LightGBM\n",
    "\n"
   ]
  },
  {
   "cell_type": "markdown",
   "id": "be61d617",
   "metadata": {},
   "source": [
    "|Data Science Tools|\n",
    "|------------------|\n",
    "|JUPYTER NOTEBOOK|\n",
    "|RSTUDIO|\n",
    "|TABLEAU|"
   ]
  },
  {
   "cell_type": "markdown",
   "id": "f0eea860",
   "metadata": {},
   "source": [
    "### Below are a few examples of evaluating arithmetic expressions in Python"
   ]
  },
  {
   "cell_type": "code",
   "execution_count": 9,
   "id": "8ddcc703",
   "metadata": {},
   "outputs": [
    {
     "data": {
      "text/plain": [
       "17"
      ]
     },
     "execution_count": 9,
     "metadata": {},
     "output_type": "execute_result"
    }
   ],
   "source": [
    "# This a simple arithmetic expression to mutiply then add integers\n",
    "(3*4)+5"
   ]
  },
  {
   "cell_type": "code",
   "execution_count": 10,
   "id": "e0561824",
   "metadata": {},
   "outputs": [
    {
     "data": {
      "text/plain": [
       "3.3333333333333335"
      ]
     },
     "execution_count": 10,
     "metadata": {},
     "output_type": "execute_result"
    }
   ],
   "source": [
    "# This will convert 200 minutes to hours by diving by 60\n",
    "200/60"
   ]
  },
  {
   "cell_type": "markdown",
   "id": "03e50763",
   "metadata": {},
   "source": [
    "## Author\n",
    "Andrian Gandhi"
   ]
  },
  {
   "cell_type": "code",
   "execution_count": null,
   "id": "e574e071",
   "metadata": {},
   "outputs": [],
   "source": []
  }
 ],
 "metadata": {
  "kernelspec": {
   "display_name": "Python 3 (ipykernel)",
   "language": "python",
   "name": "python3"
  },
  "language_info": {
   "codemirror_mode": {
    "name": "ipython",
    "version": 3
   },
   "file_extension": ".py",
   "mimetype": "text/x-python",
   "name": "python",
   "nbconvert_exporter": "python",
   "pygments_lexer": "ipython3",
   "version": "3.9.13"
  }
 },
 "nbformat": 4,
 "nbformat_minor": 5
}
